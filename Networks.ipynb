{
 "cells": [
  {
   "cell_type": "code",
   "execution_count": 228,
   "metadata": {},
   "outputs": [],
   "source": [
    "# import pandas as pd\n",
    "import numpy as np"
   ]
  },
  {
   "cell_type": "markdown",
   "metadata": {},
   "source": [
    "## Dataset 1: Gastrointestinal Lesions in Regular Colonoscopy Data Set"
   ]
  },
  {
   "cell_type": "code",
   "execution_count": 229,
   "metadata": {},
   "outputs": [],
   "source": [
    "filePath = 'data.txt'\n",
    "data = np.genfromtxt(filePath, delimiter=',', skip_header=1)"
   ]
  },
  {
   "cell_type": "code",
   "execution_count": 230,
   "metadata": {},
   "outputs": [
    {
     "name": "stdout",
     "output_type": "stream",
     "text": [
      "False\n",
      "False\n",
      "True\n"
     ]
    }
   ],
   "source": [
    "# transpose data to get features in columns and samples in rows\n",
    "data_transpose = np.transpose(data)\n",
    "data_list = data_transpose.tolist()\n",
    "\n",
    "# now let's seperate data into \"White Light Frame (WL)\" and \"NBI Frame (NBI)\"\n",
    "# 1 for WL and 2 for NBI\n",
    "data_WL, data_NBI = [],[]\n",
    "for i in range(len(data_list)):\n",
    "    if data_list[i][1] == 1:\n",
    "        data_WL.append(data_list[i])\n",
    "    elif data_list[i][1] == 2:\n",
    "        data_NBI.append(data_list[i])\n",
    "\n",
    "# checking if the separation was done correctely\n",
    "print(False in [row[1]==1 for row in data_WL])  # should be False\n",
    "print(False in [row[1]==2 for row in data_NBI]) # should be False\n",
    "print((len(data_WL)+len(data_NBI))==len(data_list)) # should be True"
   ]
  },
  {
   "cell_type": "code",
   "execution_count": 231,
   "metadata": {},
   "outputs": [],
   "source": [
    "# separating features and targets out of data_WL and data_NBI\n",
    "fea_WL = [row[2:] for row in data_WL]\n",
    "class_WL = [row[0] for row in data_WL]\n",
    "\n",
    "fea_NBI = [row[2:] for row in data_NBI]\n",
    "class_NBI = [row[0] for row in data_NBI]"
   ]
  },
  {
   "cell_type": "code",
   "execution_count": 232,
   "metadata": {},
   "outputs": [],
   "source": [
    "# %matplotlib qt"
   ]
  },
  {
   "cell_type": "markdown",
   "metadata": {},
   "source": [
    "---"
   ]
  },
  {
   "cell_type": "code",
   "execution_count": 233,
   "metadata": {},
   "outputs": [
    {
     "name": "stdout",
     "output_type": "stream",
     "text": [
      "[[35  0  7]\n",
      " [ 0 20 10]\n",
      " [ 6  0 74]]\n",
      "Accuracy: 0.849\n"
     ]
    }
   ],
   "source": [
    "from sklearn.model_selection import LeaveOneOut\n",
    "from sklearn.ensemble import RandomForestClassifier\n",
    "from sklearn.metrics import accuracy_score\n",
    "from sklearn.ensemble import ExtraTreesClassifier\n",
    "from sklearn.metrics import confusion_matrix\n",
    "\n",
    "# X -> features, y -> label\n",
    "X = np.array(fea_NBI + fea_WL)\n",
    "y = np.array(class_NBI + class_WL)\n",
    "\n",
    "# create loocv procedure\n",
    "cv = LeaveOneOut()\n",
    "\n",
    "y_true, y_pred = [],[]\n",
    "fea_importances = []\n",
    "\n",
    "# enumerate splits\n",
    "for train_ix, test_ix in cv.split(X):\n",
    "\t\n",
    "    # split data\n",
    "    X_train, X_test = X[train_ix, :], X[test_ix, :]\n",
    "    y_train, y_test = y[train_ix], y[test_ix]   \n",
    "    # fit model\n",
    "    # model = RandomForestClassifier(random_state=1)\n",
    "    model = ExtraTreesClassifier(n_estimators=100, random_state=0, criterion='entropy')\n",
    "    model.fit(X_train, y_train) \n",
    "    fea_importances.append(model.feature_importances_)\n",
    "\n",
    "    # evaluate model\n",
    "    yhat = model.predict(X_test)\n",
    "    # store\n",
    "    y_true.append(y_test[0])\n",
    "    y_pred.append(yhat[0])\n",
    "\n",
    "# calculate accuracy\n",
    "cm = confusion_matrix(y_true, y_pred)\n",
    "print(cm)\n",
    "acc = accuracy_score(y_true, y_pred)\n",
    "print('Accuracy: %.3f' % acc)"
   ]
  },
  {
   "cell_type": "code",
   "execution_count": 234,
   "metadata": {},
   "outputs": [],
   "source": [
    "import matplotlib.pyplot as plt\n",
    "\n",
    "mean_fea_imp = np.mean(np.array(fea_importances), axis=0)\n",
    "feature_importance_normalized = (mean_fea_imp)/np.max(mean_fea_imp)\n",
    "\n",
    "# Plotting a Bar Graph to compare the models\n",
    "plt.bar(range(1,699), feature_importance_normalized)\n",
    "plt.xlabel('Feature Labels')\n",
    "plt.ylabel('Feature Importances')\n",
    "plt.title('Comparison of different Feature Importances')\n",
    "plt.show()"
   ]
  },
  {
   "cell_type": "code",
   "execution_count": 235,
   "metadata": {},
   "outputs": [
    {
     "name": "stdout",
     "output_type": "stream",
     "text": [
      "(8, 152)\n",
      "[[3.74511844e-01 8.83775113e-01 9.83321211e-02 ... 1.48712158e-01\n",
      "  1.52050595e-01 1.39115672e-04]\n",
      " [3.91944404e-01 8.66749537e-01 1.14755534e-01 ... 1.78545144e-01\n",
      "  1.57172336e-01 1.85966440e-04]\n",
      " [3.85837762e-01 8.76552187e-01 9.84911839e-02 ... 1.58088993e-01\n",
      "  1.57701994e-01 6.54434250e-05]\n",
      " ...\n",
      " [3.81101050e-01 8.72844341e-01 1.27033683e-01 ... 1.66933907e-01\n",
      "  1.57659801e-01 5.21549836e-05]\n",
      " [4.13582163e-01 8.70664068e-01 1.01722474e-01 ... 1.40537628e-01\n",
      "  1.39199175e-01 2.42581331e-04]\n",
      " [3.46186403e-01 9.18626916e-01 7.38168047e-02 ... 9.44727001e-02\n",
      "  9.51131930e-02 6.31622056e-05]]\n",
      "(152, 152)\n",
      "mean =  0.013825795822924033\n",
      "max =  0.16386584564512396\n",
      "min =  8.488796042849246e-05\n",
      "6476\n"
     ]
    }
   ],
   "source": [
    "import networkx as nx\n",
    "\n",
    "from sklearn import preprocessing\n",
    "from sklearn.metrics.pairwise import euclidean_distances\n",
    "\n",
    "thres = (feature_importance_normalized > 0.4)\n",
    "print(np.shape(np.transpose(X)[thres]))\n",
    "sel_fea = np.transpose(np.transpose(X)[thres])\n",
    "# print(sel_fea)\n",
    "\n",
    "X_normalized = preprocessing.normalize(sel_fea, norm='l2')\n",
    "print(X_normalized)\n",
    "euclidean_dist = euclidean_distances(X_normalized)\n",
    "squared_euclidean = np.square(euclidean_dist)\n",
    "print(np.shape(squared_euclidean))\n",
    "\n",
    "# adj_matrix = 10**(1/similarity_matrix)\n",
    "adj_matrix = squared_euclidean\n",
    "np.fill_diagonal(adj_matrix, 0)\n",
    "\n",
    "print('mean = ', np.mean(adj_matrix[adj_matrix != np.min(adj_matrix)]))\n",
    "print('max = ', np.max(adj_matrix))\n",
    "print('min = ', np.min(adj_matrix[adj_matrix != np.min(adj_matrix)]))\n",
    "\n",
    "adj_matrix[adj_matrix >= -0.01+np.mean(adj_matrix[adj_matrix != np.min(adj_matrix)])] = 0\n",
    "\n",
    "print(np.count_nonzero(adj_matrix))\n",
    "\n",
    "# G = nx.from_numpy_matrix(adj_matrix, create_using=nx.MultiGraph())\n",
    "G = nx.from_numpy_matrix(adj_matrix)"
   ]
  },
  {
   "cell_type": "code",
   "execution_count": null,
   "metadata": {},
   "outputs": [],
   "source": []
  },
  {
   "cell_type": "code",
   "execution_count": 236,
   "metadata": {},
   "outputs": [
    {
     "name": "stdout",
     "output_type": "stream",
     "text": [
      "Transitivity: 0.7121981586448675\n",
      "Average Clustering coeff : 0.7249874787574186\n",
      "diameter: 8\n"
     ]
    }
   ],
   "source": [
    "G.remove_nodes_from(list(nx.isolates(G)))\n",
    "\n",
    "color_map = []\n",
    "for i in range(len(G)):\n",
    "    if y_pred[i] == 1:   # 1 -> hyperplasic\n",
    "        color_map.append('blue')\n",
    "    elif y_pred[i] == 2: # 2 -> serrated adenoma\n",
    "        color_map.append('red')\n",
    "    elif y_pred[i] == 3:\n",
    "        color_map.append('green')\n",
    "        \n",
    "    \n",
    "\n",
    "nx.draw(G, pos=nx.spring_layout(G),node_size=20, node_color=color_map, width=0.05)\n",
    "plt.savefig('graph_1_pred.png', dpi = 600)\n",
    "# print(\"Cluatering Coefficient of each nodes\" ,nx.clustering(G))\n",
    "# print(\"No of triangels:\", nx.triangles(G))\n",
    "print(\"Transitivity:\" , nx.transitivity(G))\n",
    "print(\"Average Clustering coeff :\",nx.average_clustering(G))\n",
    "# print(\"Generalized Degree of nodes:\", nx.generalized_degree(G))\n",
    "print(\"diameter:\", nx.diameter(G, e=None, usebounds=False))"
   ]
  },
  {
   "cell_type": "code",
   "execution_count": 237,
   "metadata": {},
   "outputs": [],
   "source": [
    "# G.remove_nodes_from(list(nx.isolates(G)))\n",
    "\n",
    "color_map = []\n",
    "for i in range(len(G)):\n",
    "    if y[i] == 1:   # 1 -> hyperplasic\n",
    "        color_map.append('blue')\n",
    "    elif y[i] == 2: # 2 -> serrated adenoma\n",
    "        color_map.append('red')\n",
    "    elif y[i] == 3:\n",
    "        color_map.append('green')\n",
    "        \n",
    "    \n",
    "\n",
    "nx.draw(G,pos=nx.spring_layout(G), node_size=20, node_color=color_map, width = 0.1)\n",
    "plt.savefig('graph_1_true.png', dpi = 600)\n"
   ]
  },
  {
   "cell_type": "markdown",
   "metadata": {},
   "source": [
    "## Dataset 2: LSVT Voice Rehabilitation Data Set"
   ]
  },
  {
   "cell_type": "code",
   "execution_count": 238,
   "metadata": {},
   "outputs": [],
   "source": [
    "filePath = 'LSVT_voice_rehabilitation.xlsx'"
   ]
  },
  {
   "cell_type": "code",
   "execution_count": 239,
   "metadata": {},
   "outputs": [],
   "source": [
    "import pandas as pd\n",
    "\n",
    "xls = pd.ExcelFile(filePath)\n",
    "df1 = pd.read_excel(xls, 'Data')\n",
    "df2 = pd.read_excel(xls, 'Binary response')\n",
    "df3 = pd.read_excel(xls, 'Subject demographics')"
   ]
  },
  {
   "cell_type": "code",
   "execution_count": 240,
   "metadata": {},
   "outputs": [],
   "source": [
    "fea = df1.to_numpy()\n",
    "labels = df2.to_numpy()\n",
    "participants = df3.to_numpy()"
   ]
  },
  {
   "cell_type": "code",
   "execution_count": 241,
   "metadata": {},
   "outputs": [],
   "source": [
    "# X -> features, y -> label\n",
    "X = fea\n",
    "# print(np.shape(X))\n",
    "y = np.transpose(labels)[0]\n",
    "\n",
    "import seaborn as sns\n",
    "import matplotlib.pyplot as plt\n",
    "\n",
    "plt.savefig('corr_dataset-2.png' , dpi = 900)"
   ]
  },
  {
   "cell_type": "code",
   "execution_count": 242,
   "metadata": {},
   "outputs": [
    {
     "name": "stdout",
     "output_type": "stream",
     "text": [
      "[[27 15]\n",
      " [ 3 81]]\n",
      "Accuracy: 0.857\n"
     ]
    }
   ],
   "source": [
    "from sklearn.model_selection import LeaveOneOut\n",
    "from sklearn.ensemble import RandomForestClassifier\n",
    "from sklearn.metrics import accuracy_score\n",
    "from sklearn.ensemble import ExtraTreesClassifier\n",
    "from sklearn.metrics import confusion_matrix\n",
    "\n",
    "# X -> features, y -> label\n",
    "X = fea\n",
    "y = np.transpose(labels)[0]\n",
    "\n",
    "# create loocv procedure\n",
    "cv = LeaveOneOut()\n",
    "\n",
    "y_true, y_pred = [],[]\n",
    "fea_importances = []\n",
    "\n",
    "# enumerate splits\n",
    "for train_ix, test_ix in cv.split(X):\n",
    "\t\n",
    "    # split data\n",
    "    X_train, X_test = X[train_ix, :], X[test_ix, :]\n",
    "    y_train, y_test = y[train_ix], y[test_ix]   \n",
    "    # fit model\n",
    "    # model = RandomForestClassifier(random_state=1)\n",
    "    model = ExtraTreesClassifier(n_estimators=100, random_state=0, criterion='entropy')\n",
    "    model.fit(X_train, y_train) \n",
    "    fea_importances.append(model.feature_importances_)\n",
    "\n",
    "    # evaluate model\n",
    "    yhat = model.predict(X_test)\n",
    "    # store\n",
    "    y_true.append(y_test[0])\n",
    "    y_pred.append(yhat[0])\n",
    "\n",
    "# calculate accuracy\n",
    "cm = confusion_matrix(y_true, y_pred)\n",
    "print(cm)\n",
    "acc = accuracy_score(y_true, y_pred)\n",
    "print('Accuracy: %.3f' % acc)"
   ]
  },
  {
   "cell_type": "code",
   "execution_count": 243,
   "metadata": {},
   "outputs": [],
   "source": [
    "import matplotlib.pyplot as plt\n",
    "\n",
    "mean_fea_imp = np.mean(np.array(fea_importances), axis=0)\n",
    "feature_importance_normalized = (mean_fea_imp)/np.max(mean_fea_imp)\n",
    "\n",
    "# Plotting a Bar Graph to compare the models\n",
    "plt.bar(range(1,311), feature_importance_normalized)\n",
    "plt.xlabel('Feature Labels')\n",
    "plt.ylabel('Feature Importances')\n",
    "plt.title('Comparison of different Feature Importances')\n",
    "plt.show()"
   ]
  },
  {
   "cell_type": "code",
   "execution_count": 244,
   "metadata": {},
   "outputs": [
    {
     "name": "stdout",
     "output_type": "stream",
     "text": [
      "(31, 126)\n",
      "[[ 1.51183227e-05  7.15444471e-06  8.24201491e-08 ... -8.35047796e-01\n",
      "  -3.34973122e-01 -1.33541161e-01]\n",
      " [ 2.96706216e-05  1.05195633e-05  1.24157866e-07 ... -8.51295550e-01\n",
      "  -3.61641487e-01 -1.66481759e-01]\n",
      " [ 1.42144754e-04  1.64806919e-04  1.94196518e-06 ... -8.83311892e-01\n",
      "  -3.34176368e-01 -1.09303634e-01]\n",
      " ...\n",
      " [ 1.11918160e-05  7.81871795e-06  9.20350315e-08 ... -7.92920876e-01\n",
      "  -2.88957979e-01 -1.12876471e-01]\n",
      " [ 1.89482027e-05  9.22834523e-06  1.09835715e-07 ... -8.49183312e-01\n",
      "  -3.35756749e-01 -1.32295457e-01]\n",
      " [ 5.24132505e-05  2.70669255e-05  3.21557663e-07 ... -8.73436209e-01\n",
      "  -3.10635190e-01 -1.23687156e-01]]\n",
      "(126, 126)\n",
      "mean =  0.28911450681076456\n",
      "max =  1.7261245547419248\n",
      "min =  3.634076633540761e-05\n",
      "2340\n"
     ]
    }
   ],
   "source": [
    "import networkx as nx\n",
    "\n",
    "from sklearn import preprocessing\n",
    "from sklearn.metrics.pairwise import euclidean_distances\n",
    "\n",
    "thres = (feature_importance_normalized > 0.3)\n",
    "print(np.shape(np.transpose(X)[thres]))\n",
    "sel_fea = np.transpose(np.transpose(X)[thres])\n",
    "# print(sel_fea)\n",
    "\n",
    "X_normalized = preprocessing.normalize(sel_fea, norm='l2')\n",
    "print(X_normalized)\n",
    "euclidean_dist = euclidean_distances(X_normalized)\n",
    "squared_euclidean = np.square(euclidean_dist)\n",
    "print(np.shape(squared_euclidean))\n",
    "\n",
    "# adj_matrix = 10**(1/similarity_matrix)\n",
    "adj_matrix = squared_euclidean\n",
    "np.fill_diagonal(adj_matrix, 0)\n",
    "\n",
    "print('mean = ', np.mean(adj_matrix[adj_matrix != np.min(adj_matrix)]))\n",
    "print('max = ', np.max(adj_matrix))\n",
    "print('min = ', np.min(adj_matrix[adj_matrix != np.min(adj_matrix)]))\n",
    "\n",
    "adj_matrix[adj_matrix >= -0.279+np.mean(adj_matrix[adj_matrix != np.min(adj_matrix)])] = 0\n",
    "\n",
    "print(np.count_nonzero(adj_matrix))\n",
    "\n",
    "G = nx.from_numpy_matrix(adj_matrix)"
   ]
  },
  {
   "cell_type": "code",
   "execution_count": 245,
   "metadata": {},
   "outputs": [],
   "source": [
    "G.remove_nodes_from(list(nx.isolates(G)))\n",
    "\n",
    "color_map = []\n",
    "for i in range(len(G)):\n",
    "    if y_pred[i] == 1:   # 1 -> hyperplasic\n",
    "        color_map.append('blue')\n",
    "    elif y_pred[i] == 2: # 2 -> serrated adenoma\n",
    "        color_map.append('red')\n",
    "    \n",
    "\n",
    "nx.draw_spring(G, node_size=20, node_color=color_map, width=0.1)\n",
    "plt.savefig('graph_2_pred.png', dpi = 600)\n"
   ]
  },
  {
   "cell_type": "code",
   "execution_count": 246,
   "metadata": {},
   "outputs": [],
   "source": [
    "color_map = []\n",
    "for i in range(len(G)):\n",
    "    if y[i] == 1:   # 1 -> hyperplasic\n",
    "        color_map.append('blue')\n",
    "    elif y[i] == 2: # 2 -> serrated adenoma\n",
    "        color_map.append('red')\n",
    "    \n",
    "\n",
    "nx.draw_spring(G,  node_size=20, node_color=color_map, width = 0.1)\n",
    "plt.savefig('graph_2true2.png', dpi = 600)\n",
    "\n"
   ]
  },
  {
   "cell_type": "code",
   "execution_count": 251,
   "metadata": {},
   "outputs": [
    {
     "name": "stdout",
     "output_type": "stream",
     "text": [
      "Transitivity: 0.7632939115199299\n",
      "Average Clustering coeff : 0.7259376829614688\n",
      "diameter: 13\n"
     ]
    }
   ],
   "source": [
    "G.remove_nodes_from(list(nx.isolates(G)))\n",
    "\n",
    "# print(\"Cluatering Coefficient of each nodes\" ,nx.clustering(G))\n",
    "# print(\"No of triangels:\", nx.triangles(G))\n",
    "print(\"Transitivity:\" , nx.transitivity(G))\n",
    "print(\"Average Clustering coeff :\",nx.average_clustering(G))\n",
    "# print(\"Generalized Degree of nodes:\", nx.generalized_degree(G))\n",
    "diameter = max([max(j.values()) for (i,j) in nx.shortest_path_length(G)])\n",
    "# print(\"diameter:\", nx.diameter(G, e=None, usebounds=False))\n",
    "print(\"diameter:\", diameter)"
   ]
  },
  {
   "cell_type": "code",
   "execution_count": null,
   "metadata": {},
   "outputs": [],
   "source": []
  },
  {
   "cell_type": "code",
   "execution_count": 203,
   "metadata": {},
   "outputs": [
    {
     "data": {
      "text/plain": [
       "13"
      ]
     },
     "execution_count": 203,
     "metadata": {},
     "output_type": "execute_result"
    }
   ],
   "source": [
    "diameter"
   ]
  },
  {
   "cell_type": "code",
   "execution_count": null,
   "metadata": {},
   "outputs": [],
   "source": []
  }
 ],
 "metadata": {
  "interpreter": {
   "hash": "a5e9bb5c8109d9c89e3540dfae7ab7a0527331017fc9eeaf677245afa113f1a5"
  },
  "kernelspec": {
   "display_name": "Python 3",
   "language": "python",
   "name": "python3"
  },
  "language_info": {
   "codemirror_mode": {
    "name": "ipython",
    "version": 3
   },
   "file_extension": ".py",
   "mimetype": "text/x-python",
   "name": "python",
   "nbconvert_exporter": "python",
   "pygments_lexer": "ipython3",
   "version": "3.8.5"
  }
 },
 "nbformat": 4,
 "nbformat_minor": 2
}
