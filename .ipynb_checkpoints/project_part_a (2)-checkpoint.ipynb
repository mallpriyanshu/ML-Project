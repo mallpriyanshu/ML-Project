{
 "cells": [
  {
   "cell_type": "code",
   "execution_count": 9,
   "metadata": {},
   "outputs": [],
   "source": [
    "# import pandas as pd\n",
    "import numpy as np\n",
    "import matplotlib.pyplot as plt"
   ]
  },
  {
   "cell_type": "markdown",
   "metadata": {},
   "source": [
    "## Dataset 1: Gastrointestinal Lesions in Regular Colonoscopy Data Set"
   ]
  },
  {
   "cell_type": "code",
   "execution_count": 2,
   "metadata": {},
   "outputs": [],
   "source": [
    "filePath = 'data.txt'\n",
    "\n",
    "data = np.genfromtxt(filePath, delimiter=',', skip_header=1)"
   ]
  },
  {
   "cell_type": "code",
   "execution_count": 3,
   "metadata": {},
   "outputs": [
    {
     "name": "stdout",
     "output_type": "stream",
     "text": [
      "False\n",
      "False\n",
      "True\n"
     ]
    }
   ],
   "source": [
    "# transpose data to get features in columns and samples in rows\n",
    "data_transpose = np.transpose(data)\n",
    "data_list = data_transpose.tolist()\n",
    "\n",
    "# now let's seperate data into \"White Light Frame (WL)\" and \"NBI Frame (NBI)\"\n",
    "# 1 for WL and 2 for NBI\n",
    "data_WL, data_NBI = [],[]\n",
    "for i in range(len(data_list)):\n",
    "    if data_list[i][1] == 1:\n",
    "        data_WL.append(data_list[i])\n",
    "    elif data_list[i][1] == 2:\n",
    "        data_NBI.append(data_list[i])\n",
    "\n",
    "# checking if the separation was done correctely\n",
    "print(False in [row[1]==1 for row in data_WL])  # should be False\n",
    "print(False in [row[1]==2 for row in data_NBI]) # should be False\n",
    "print((len(data_WL)+len(data_NBI))==len(data_list)) # should be True"
   ]
  },
  {
   "cell_type": "code",
   "execution_count": 4,
   "metadata": {},
   "outputs": [],
   "source": [
    "# separating features and targets out of data_WL and data_NBI\n",
    "fea_WL = [row[2:] for row in data_WL]\n",
    "class_WL = [row[0] for row in data_WL]\n",
    "\n",
    "fea_NBI = [row[2:] for row in data_NBI]\n",
    "class_NBI = [row[0] for row in data_NBI]"
   ]
  },
  {
   "cell_type": "code",
   "execution_count": null,
   "metadata": {},
   "outputs": [],
   "source": []
  },
  {
   "cell_type": "markdown",
   "metadata": {},
   "source": [
    "---"
   ]
  },
  {
   "cell_type": "code",
   "execution_count": 5,
   "metadata": {},
   "outputs": [
    {
     "name": "stdout",
     "output_type": "stream",
     "text": [
      "[[35  0  7]\n",
      " [ 0 20 10]\n",
      " [ 6  0 74]]\n",
      "Overall Accuracy: 0.849\n"
     ]
    }
   ],
   "source": [
    "from sklearn.model_selection import LeaveOneOut\n",
    "from sklearn.ensemble import RandomForestClassifier\n",
    "from sklearn.metrics import accuracy_score\n",
    "from sklearn.ensemble import ExtraTreesClassifier\n",
    "from sklearn.metrics import confusion_matrix\n",
    "\n",
    "# X -> features, y -> label\n",
    "X = np.array(fea_NBI + fea_WL)\n",
    "y = np.array(class_NBI + class_WL)\n",
    "\n",
    "# create loocv procedure\n",
    "cv = LeaveOneOut()\n",
    "\n",
    "y_true, y_pred = [],[]\n",
    "fea_importances = []\n",
    "\n",
    "# enumerate splits\n",
    "for train_ix, test_ix in cv.split(X):\n",
    "\t\n",
    "    # split data\n",
    "    X_train, X_test = X[train_ix, :], X[test_ix, :]\n",
    "    y_train, y_test = y[train_ix], y[test_ix]   \n",
    "    # fit model\n",
    "    # model = RandomForestClassifier(random_state=1)\n",
    "    model = ExtraTreesClassifier(n_estimators=100, random_state=0, criterion='entropy')\n",
    "    model.fit(X_train, y_train) \n",
    "    fea_importances.append(model.feature_importances_)\n",
    "\n",
    "    # evaluate model\n",
    "    yhat = model.predict(X_test)\n",
    "    # store\n",
    "    y_true.append(y_test[0])\n",
    "    y_pred.append(yhat[0])\n",
    "\n",
    "# calculate accuracy\n",
    "cm1 = confusion_matrix(y_true, y_pred)\n",
    "print(cm1)\n",
    "acc1 = accuracy_score(y_true, y_pred)\n",
    "print('Overall Accuracy: %.3f' % acc1)"
   ]
  },
  {
   "cell_type": "code",
   "execution_count": 6,
   "metadata": {},
   "outputs": [
    {
     "name": "stdout",
     "output_type": "stream",
     "text": [
      "Overall Accuracy: 0.849\n",
      "(3,)\n",
      "(3,)\n",
      "(3,)\n",
      "(3,)\n"
     ]
    }
   ],
   "source": [
    "print('Overall Accuracy: %.3f' % acc1)\n",
    "\n",
    "FP = cm1.sum(axis=0) - np.diag(cm1) \n",
    "FN = cm1.sum(axis=1) - np.diag(cm1)\n",
    "TP = np.diag(cm1)\n",
    "TN = cm1.sum() - (FP + FN + TP)\n",
    "\n",
    "print(FP.shape)\n",
    "print(FN.shape)\n",
    "print(TP.shape)\n",
    "print(TN.shape)\n",
    "\n",
    "# Sensitivity, hit rate, recall, or true positive rate\n",
    "TPR = TP/(TP+FN)\n",
    "# Specificity or true negative rate\n",
    "TNR = TN/(TN+FP) \n",
    "# Precision or positive predictive value\n",
    "PPV = TP/(TP+FP)\n",
    "# Negative predictive value\n",
    "NPV = TN/(TN+FN)\n",
    "# Fall out or false positive rate\n",
    "FPR = FP/(FP+TN)\n",
    "# False negative rate\n",
    "FNR = FN/(TP+FN)\n",
    "# False discovery rate\n",
    "FDR = FP/(TP+FP)\n",
    "# Overall accuracy for each class\n",
    "ACC = (TP+TN)/(TP+FP+FN+TN)"
   ]
  },
  {
   "cell_type": "code",
   "execution_count": 7,
   "metadata": {},
   "outputs": [
    {
     "data": {
      "text/plain": [
       "array([0.94545455, 1.        , 0.76388889])"
      ]
     },
     "execution_count": 7,
     "metadata": {},
     "output_type": "execute_result"
    }
   ],
   "source": [
    "TNR"
   ]
  },
  {
   "cell_type": "code",
   "execution_count": 11,
   "metadata": {},
   "outputs": [
    {
     "data": {
      "image/png": "[encoded data removed]",
      "text/plain": [
       "<Figure size 432x288 with 2 Axes>"
      ]
     },
     "metadata": {
      "needs_background": "light"
     },
     "output_type": "display_data"
    }
   ],
   "source": [
    "from sklearn.metrics import ConfusionMatrixDisplay\n",
    "\n",
    "disp = ConfusionMatrixDisplay(confusion_matrix=cm1, display_labels=['hyperplasic','serrated\\nadenoma','adenoma'])\n",
    "disp.plot()\n",
    "\n",
    "plt.savefig('Lesions_cm.png', bbox_inches =\"tight\", transparent = True, dpi=600)\n",
    "plt.show()"
   ]
  },
  {
   "cell_type": "code",
   "execution_count": 100,
   "metadata": {},
   "outputs": [],
   "source": [
    "import matplotlib.pyplot as plt\n",
    "\n",
    "mean_fea_imp = np.mean(np.array(fea_importances), axis=0)\n",
    "feature_importance_normalized = (mean_fea_imp)/np.max(mean_fea_imp)\n",
    "\n",
    "# Plotting a Bar Graph to compare the models\n",
    "plt.figure(figsize=(10,4))\n",
    "plt.bar(range(1,699), feature_importance_normalized)\n",
    "plt.xlabel('Feature Labels')\n",
    "plt.ylabel('Feature Importances')\n",
    "plt.title('Comparison of different Feature Importances')\n",
    "\n",
    "plt.savefig('Lesions_feature_importance.png', bbox_inches =\"tight\", transparent = True, dpi=300)\n",
    "plt.show()"
   ]
  },
  {
   "cell_type": "markdown",
   "metadata": {},
   "source": [
    "## Dataset 2: LSVT Voice Rehabilitation Data Set"
   ]
  },
  {
   "cell_type": "code",
   "execution_count": 19,
   "metadata": {},
   "outputs": [],
   "source": [
    "filePath = './LSVT_voice_rehabilitation/LSVT_voice_rehabilitation.xlsx'"
   ]
  },
  {
   "cell_type": "code",
   "execution_count": 20,
   "metadata": {},
   "outputs": [],
   "source": [
    "import pandas as pd\n",
    "\n",
    "xls = pd.ExcelFile(filePath)\n",
    "df1 = pd.read_excel(xls, 'Data')\n",
    "df2 = pd.read_excel(xls, 'Binary response')\n",
    "df3 = pd.read_excel(xls, 'Subject demographics')"
   ]
  },
  {
   "cell_type": "code",
   "execution_count": 26,
   "metadata": {},
   "outputs": [],
   "source": [
    "fea = df1.to_numpy()\n",
    "labels = df2.to_numpy()\n",
    "participants = df3.to_numpy()"
   ]
  },
  {
   "cell_type": "code",
   "execution_count": 51,
   "metadata": {},
   "outputs": [],
   "source": [
    "# X -> features, y -> label\n",
    "X = fea\n",
    "y = np.transpose(labels)[0]"
   ]
  },
  {
   "cell_type": "code",
   "execution_count": 102,
   "metadata": {},
   "outputs": [
    {
     "name": "stdout",
     "output_type": "stream",
     "text": [
      "[[27 15]\n",
      " [ 3 81]]\n",
      "Accuracy: 0.857\n"
     ]
    }
   ],
   "source": [
    "from sklearn.model_selection import LeaveOneOut\n",
    "from sklearn.ensemble import RandomForestClassifier\n",
    "from sklearn.metrics import accuracy_score\n",
    "from sklearn.ensemble import ExtraTreesClassifier\n",
    "from sklearn.metrics import confusion_matrix\n",
    "\n",
    "# X -> features, y -> label\n",
    "X = fea\n",
    "y = np.transpose(labels)[0]\n",
    "\n",
    "# create loocv procedure\n",
    "cv = LeaveOneOut()\n",
    "\n",
    "y_true, y_pred = [],[]\n",
    "fea_importances = []\n",
    "\n",
    "# enumerate splits\n",
    "for train_ix, test_ix in cv.split(X):\n",
    "\t\n",
    "    # split data\n",
    "    X_train, X_test = X[train_ix, :], X[test_ix, :]\n",
    "    y_train, y_test = y[train_ix], y[test_ix]   \n",
    "    # fit model\n",
    "    # model = RandomForestClassifier(random_state=1)\n",
    "    model = ExtraTreesClassifier(n_estimators=100, random_state=0, criterion='entropy')\n",
    "    model.fit(X_train, y_train) \n",
    "    fea_importances.append(model.feature_importances_)\n",
    "\n",
    "    # evaluate model\n",
    "    yhat = model.predict(X_test)\n",
    "    \n",
    "    # store\n",
    "    y_true.append(y_test[0])\n",
    "    y_pred.append(yhat[0])\n",
    "\n",
    "# calculate accuracy\n",
    "cm2 = confusion_matrix(y_true, y_pred)\n",
    "print(cm2)\n",
    "acc2 = accuracy_score(y_true, y_pred)\n",
    "print('Accuracy: %.3f' % acc2)"
   ]
  },
  {
   "cell_type": "code",
   "execution_count": 90,
   "metadata": {},
   "outputs": [
    {
     "name": "stdout",
     "output_type": "stream",
     "text": [
      "Accuracy: 0.857\n",
      "(2,)\n",
      "(2,)\n",
      "(2,)\n",
      "(2,)\n"
     ]
    }
   ],
   "source": [
    "print('Accuracy: %.3f' % acc2)\n",
    "\n",
    "FP = cm2.sum(axis=0) - np.diag(cm2) \n",
    "FN = cm2.sum(axis=1) - np.diag(cm2)\n",
    "TP = np.diag(cm2)\n",
    "TN = cm2.sum() - (FP + FN + TP)\n",
    "\n",
    "print(FP.shape)\n",
    "print(FN.shape)\n",
    "print(TP.shape)\n",
    "print(TN.shape)\n",
    "\n",
    "# Sensitivity, hit rate, recall, or true positive rate\n",
    "TPR = TP/(TP+FN)\n",
    "# Specificity or true negative rate\n",
    "TNR = TN/(TN+FP) \n",
    "# Precision or positive predictive value\n",
    "PPV = TP/(TP+FP)\n",
    "# Negative predictive value\n",
    "NPV = TN/(TN+FN)\n",
    "# Fall out or false positive rate\n",
    "FPR = FP/(FP+TN)\n",
    "# False negative rate\n",
    "FNR = FN/(TP+FN)\n",
    "# False discovery rate\n",
    "FDR = FP/(TP+FP)\n",
    "# Overall accuracy for each class\n",
    "ACC = (TP+TN)/(TP+FP+FN+TN)"
   ]
  },
  {
   "cell_type": "code",
   "execution_count": 115,
   "metadata": {},
   "outputs": [
    {
     "data": {
      "text/plain": [
       "array([0.1    , 0.15625])"
      ]
     },
     "execution_count": 115,
     "metadata": {},
     "output_type": "execute_result"
    }
   ],
   "source": [
    "FDR"
   ]
  },
  {
   "cell_type": "code",
   "execution_count": 104,
   "metadata": {},
   "outputs": [],
   "source": [
    "from sklearn.metrics import ConfusionMatrixDisplay\n",
    "\n",
    "disp = ConfusionMatrixDisplay(confusion_matrix=cm2, display_labels=['acceptable','unacceptable'])\n",
    "disp.plot()\n",
    "\n",
    "plt.savefig('Voice_cm.png', bbox_inches =\"tight\", transparent = True, dpi=300)\n",
    "\n",
    "plt.show()"
   ]
  },
  {
   "cell_type": "code",
   "execution_count": 106,
   "metadata": {},
   "outputs": [],
   "source": [
    "import matplotlib.pyplot as plt\n",
    "\n",
    "mean_fea_imp = np.mean(np.array(fea_importances), axis=0)\n",
    "feature_importance_normalized = (mean_fea_imp)/np.max(mean_fea_imp)\n",
    "\n",
    "# Plotting a Bar Graph to compare the models\n",
    "plt.figure(figsize=(9,4))\n",
    "plt.bar(range(1,311), feature_importance_normalized)\n",
    "plt.xlabel('Feature Labels')\n",
    "plt.ylabel('Feature Importances')\n",
    "plt.title('Comparison of different Feature Importances')\n",
    "\n",
    "plt.savefig('Voice_feature_importance.png', bbox_inches =\"tight\", transparent = True, dpi=300)\n",
    "\n",
    "\n",
    "plt.show()"
   ]
  }
 ],
 "metadata": {
  "interpreter": {
   "hash": "a5e9bb5c8109d9c89e3540dfae7ab7a0527331017fc9eeaf677245afa113f1a5"
  },
  "kernelspec": {
   "display_name": "Python 3",
   "language": "python",
   "name": "python3"
  },
  "language_info": {
   "codemirror_mode": {
    "name": "ipython",
    "version": 3
   },
   "file_extension": ".py",
   "mimetype": "text/x-python",
   "name": "python",
   "nbconvert_exporter": "python",
   "pygments_lexer": "ipython3",
   "version": "3.8.5"
  }
 },
 "nbformat": 4,
 "nbformat_minor": 2
}
